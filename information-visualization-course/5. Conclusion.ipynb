{
 "cells": [
  {
   "cell_type": "markdown",
   "metadata": {},
   "source": [
    "## Conclusion"
   ]
  },
  {
   "cell_type": "markdown",
   "metadata": {},
   "source": [
    "First of all thank you for your attention throughout the course and hope that you gained some knowledge about this course. As a final parting message I want to address the following appendices of this course material. \n",
    "\n",
    "### Appendices\n",
    "\n",
    "The appendix notebook [Appendix A. D3js examples](./A.&#32;D3js&#32;examples.ipynb) is the notebook that contains all the D3js examples on how to use D3js within a jupyter notebook.\n",
    "\n",
    "If you want to setup these notebooks yourself you can download this [tar file](./notebooks.tar.gz) which is also located in the home directory of this course. To use these notebooks on your own device you can follow the [Notebook installation guide](./B.&#32;Notebook&#32;installation&#32;on&#32;your&#32;own&#32;device.ipynb).\n",
    "\n",
    "The appendix notebook [C. IMDB Graph extraction](./C.&#32;IMDB&#32;Graph&#32;extraction.ipynb) contains some additional information on how to extract information from the IMDB dataset."
   ]
  }
 ],
 "metadata": {
  "kernelspec": {
   "display_name": "Python 3 (ipykernel)",
   "language": "python",
   "name": "python3"
  },
  "language_info": {
   "codemirror_mode": {
    "name": "ipython",
    "version": 3
   },
   "file_extension": ".py",
   "mimetype": "text/x-python",
   "name": "python",
   "nbconvert_exporter": "python",
   "pygments_lexer": "ipython3",
   "version": "3.10.4"
  }
 },
 "nbformat": 4,
 "nbformat_minor": 2
}
