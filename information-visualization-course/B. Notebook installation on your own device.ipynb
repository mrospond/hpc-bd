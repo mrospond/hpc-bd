{
 "cells": [
  {
   "cell_type": "markdown",
   "metadata": {},
   "source": [
    "## Notebook installation on your own device"
   ]
  },
  {
   "cell_type": "markdown",
   "metadata": {},
   "source": [
    "### Installation\n",
    "\n",
    "To use the notebooks on your own machine instead of the cloud you need to install several software packages and python modules. The following needs to be installed:\n",
    "\n",
    "- Python 3.10+\n",
    "- virtualenv\n",
    "\n",
    "First decide if you want to install it all globally or in a virtual environment (the latter is really recommended to reduce python module clutter in you global python environment). If you want to do install everything in an virtual environment, create a virtual environment first like so:\n",
    "\n",
    "`virtualenv infovisenv`\n",
    "\n",
    "Then activate the virtual environment:\n",
    "\n",
    "`source infovisenv/bin/activate` (on Linux or Mac)\n",
    "\n",
    "`.\\infovisenv\\Scripts\\activate`  (on Windows)\n",
    "\n",
    "Now you can use pip and the [**requirements.txt**](./requirements.txt) file to install all the needed python modules and dependencies in the virtual environment by simply excuting the following command in your terminal: \n",
    "\n",
    "`pip install -r ./requirements.txt`\n",
    "\n",
    "### Usage\n",
    "\n",
    "Then if all the required software and python modules are installed you can use the notebooks by starting a jupyter notebook server by issuing the following command in the directory of the notebooks which can be downloaded from [here](./notebooks.tar.gz).\n",
    "\n",
    "`jupyter notebook`\n",
    "\n",
    "### Questions?\n",
    "\n",
    "If there any questions you can ask the course instructor for some guidance or mail the question to: [Casper van Leeuwen](mailto:casper.vanleeuwen@surf.nl). "
   ]
  }
 ],
 "metadata": {
  "kernelspec": {
   "display_name": "Python 3 (ipykernel)",
   "language": "python",
   "name": "python3"
  },
  "language_info": {
   "codemirror_mode": {
    "name": "ipython",
    "version": 3
   },
   "file_extension": ".py",
   "mimetype": "text/x-python",
   "name": "python",
   "nbconvert_exporter": "python",
   "pygments_lexer": "ipython3",
   "version": "3.10.4"
  }
 },
 "nbformat": 4,
 "nbformat_minor": 2
}
