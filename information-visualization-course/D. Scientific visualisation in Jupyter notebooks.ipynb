{
 "cells": [
  {
   "cell_type": "markdown",
   "metadata": {},
   "source": [
    "# Scientific visualisation in Jupyter notebooks\n",
    "\n",
    "As a bridge to the next subject of the visualisation course, scientific visualisation, this notebook will give you a couple of examples of the possibilities of scientific visualisations in the Jupyter notebooks.\n",
    "\n",
    "## Ipyvolume\n",
    "\n",
    "Ipyvolume makes it possible to make 3D interactive jupyter-notebook widgets for volume and mesh rendering in the Jupyter notebooks."
   ]
  },
  {
   "cell_type": "code",
   "execution_count": 1,
   "metadata": {},
   "outputs": [
    {
     "name": "stderr",
     "output_type": "stream",
     "text": [
      "/projects/jhssrf019/JHS_installations/Python/lib/python3.10/site-packages/ipyvolume/serialize.py:102: RuntimeWarning: invalid value encountered in cast\n",
      "  subdata[..., i] = ((gradient[i][zindex] / 2.0 + 0.5) * 255).astype(np.uint8)\n"
     ]
    },
    {
     "data": {
      "application/vnd.jupyter.widget-view+json": {
       "model_id": "1b518f1db7014e0fb31be518fb864fc1",
       "version_major": 2,
       "version_minor": 0
      },
      "text/plain": [
       "Container(children=[VBox(children=(HBox(children=(Label(value='levels:'), FloatSlider(value=0.25, max=1.0, ste…"
      ]
     },
     "metadata": {},
     "output_type": "display_data"
    }
   ],
   "source": [
    "import numpy as np\n",
    "import ipyvolume as ipv\n",
    "import vtk\n",
    "from vtk.util import numpy_support as vn\n",
    "from vtk.util.numpy_support import vtk_to_numpy\n",
    "\n",
    "# Read the mummy volume dataset from the vtk file with a vtk data reader\n",
    "reader = vtk.vtkDataSetReader()\n",
    "reader.SetFileName(\"./data/volumes/mummy.128.vtk\");\n",
    "reader.Update()\n",
    "\n",
    "# extract the vtk image data to a numpy array\n",
    "imdata = reader.GetOutput()\n",
    "pdata = imdata.GetPointData()\n",
    "mummy = vn.vtk_to_numpy(pdata.GetArray('scalars'))\n",
    "\n",
    "# formate the data from 0 to 1 and change the shape to a volume\n",
    "mummy = mummy.astype(float)\n",
    "mummy = (mummy - mummy.min()) / mummy.ptp()\n",
    "mummy = mummy.reshape(128,128,128)\n",
    "\n",
    "# extract a iso suface from the volume\n",
    "contourFilter = vtk.vtkContourFilter();\n",
    "contourFilter.SetInputConnection(reader.GetOutputPort());\n",
    "contourFilter.GenerateValues(1, 127, 127); # (numContours, rangeStart, rangeEnd)\n",
    "contourFilter.Update();\n",
    "\n",
    "# Get poly data\n",
    "polydata = contourFilter.GetOutput();\n",
    "\n",
    "# Make a ipyvolume figure in which to draw the 3D visualisations\n",
    "fig = ipv.figure(width=500, height=500, lighting=True, controls=True)\n",
    "\n",
    "# Get vertex locations and store x, y ,z components in seperate arrays\n",
    "vertices = vtk_to_numpy(polydata.GetPoints().GetData())\n",
    "vx,vy,vz = np.transpose(vertices)\n",
    "\n",
    "# extract the triangle data and remove the vertex count per triangle\n",
    "polys = vtk_to_numpy(polydata.GetPolys().GetData())\n",
    "polys = np.delete(polys, slice(None, None, 4))\n",
    "polys = polys.reshape((polys.shape[0]//3,3))\n",
    "\n",
    "# create a mesh widget\n",
    "mesh = ipv.plot_trisurf(vx, vy, vz, triangles=polys, color='orange')\n",
    "\n",
    "# create a volume widget\n",
    "volume = ipv.volshow(mummy, level=[0.25, 0.75], opacity=0.03, level_width=0.1, data_min=0, data_max=1, extent=[(0,239.522),(0,239.522),(0,242.951)])\n",
    "\n",
    "# draw the widgets\n",
    "ipv.show()"
   ]
  },
  {
   "cell_type": "markdown",
   "metadata": {},
   "source": [
    "As you can see it shows both the volume and the mesh widget in one figure. If you want to show one or the other you can disable the visibility within the python code cells (see below) or you can make interactive widgets for them like the sliders above the visualisations, for more information on the interactive widgets can be found [here](https://ipywidgets.readthedocs.io/en/stable/examples/Using%20Interact.html)."
   ]
  },
  {
   "cell_type": "code",
   "execution_count": 2,
   "metadata": {},
   "outputs": [],
   "source": [
    "mesh.visible = False"
   ]
  },
  {
   "cell_type": "code",
   "execution_count": null,
   "metadata": {},
   "outputs": [],
   "source": []
  }
 ],
 "metadata": {
  "kernelspec": {
   "display_name": "Python 3 (ipykernel)",
   "language": "python",
   "name": "python3"
  },
  "language_info": {
   "codemirror_mode": {
    "name": "ipython",
    "version": 3
   },
   "file_extension": ".py",
   "mimetype": "text/x-python",
   "name": "python",
   "nbconvert_exporter": "python",
   "pygments_lexer": "ipython3",
   "version": "3.10.4"
  }
 },
 "nbformat": 4,
 "nbformat_minor": 2
}
